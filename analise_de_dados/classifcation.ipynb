{
 "cells": [
  {
   "cell_type": "markdown",
   "metadata": {},
   "source": [
    "# -*- coding: UTF-8 -*-"
   ]
  },
  {
   "cell_type": "code",
   "execution_count": null,
   "metadata": {},
   "outputs": [],
   "source": [
    "import os\n",
    "import difflib as dfl\n",
    "import re\n",
    "import glob\n",
    "import nltk.corpus"
   ]
  },
  {
   "cell_type": "code",
   "execution_count": null,
   "metadata": {},
   "outputs": [],
   "source": [
    "nltk.corpus.stopwords.words('portuguese')"
   ]
  },
  {
   "cell_type": "code",
   "execution_count": null,
   "metadata": {},
   "outputs": [],
   "source": [
    "pattern = re.compile(r'\\b(' + r'|'.join(nltk.corpus.stopwords.words('portuguese')) + r')\\b\\s*')\n",
    "os.chdir(\"C:\\\\Users\\\\valej_000\\\\Documents\\\\GitHub\\\\Geracao\\\\TXT\")"
   ]
  },
  {
   "cell_type": "code",
   "execution_count": null,
   "metadata": {},
   "outputs": [],
   "source": [
    "f=open(\"20190611_001659_SIPTrunk-2_GERAL_52_32217300_33338111.txt\")\n",
    "texto=f.read()\n",
    "texto"
   ]
  },
  {
   "cell_type": "code",
   "execution_count": null,
   "metadata": {},
   "outputs": [],
   "source": [
    "def tensao (texto):\n",
    "    ret=[]\n",
    "    ret.append(sum([dfl.SequenceMatcher(None,item,\"tensao\").ratio()>0.75 for item in texto]))\n",
    "    ret.append(sum([dfl.SequenceMatcher(None,item,\"volt\").ratio()>0.75 for item in texto]))\n",
    "    ret.append(sum([dfl.SequenceMatcher(None,item,\"kV\").ratio()>0.75 for item in texto]))\n",
    "    ret.append(sum([dfl.SequenceMatcher(None,item,\"eleva\").ratio()>0.75 for item in texto]))\n",
    "    ret.append(sum([dfl.SequenceMatcher(None,item,\"reduzi\").ratio()>0.75 for item in texto]))\n",
    "    #ret.append(sum([dfl.SequenceMatcher(None,item,\"máximo\").ratio()>0.75 for item in texto]))\n",
    "    #ret.append(sum([dfl.SequenceMatcher(None,item,\"mínimo\").ratio()>0.75 for item in texto]))\n",
    "    ret.append(sum([dfl.SequenceMatcher(None,item,\"barra\").ratio()>0.75 for item in texto]))\n",
    "    return ret"
   ]
  },
  {
   "cell_type": "code",
   "execution_count": null,
   "metadata": {},
   "outputs": [],
   "source": [
    "def reverter (texto):\n",
    "    ret=[]\n",
    "    ret.append(sum([dfl.SequenceMatcher(None,item,\"revert\").ratio()>0.75 for item in texto]))\n",
    "    ret.append(sum([dfl.SequenceMatcher(None,item,\"compensa\").ratio()>0.75 for item in texto]))\n",
    "    ret.append(sum([dfl.SequenceMatcher(None,item,\"comutaç\").ratio()>0.75 for item in texto]))\n",
    "    ret.append(sum([dfl.SequenceMatcher(None,item,\"uma_unidade\").ratio()>0.75 for item in texto]))\n",
    "    ret.append(sum([dfl.SequenceMatcher(None,item,\"CAG\").ratio()>0.75 for item in texto]))\n",
    "    return ret"
   ]
  },
  {
   "cell_type": "code",
   "execution_count": null,
   "metadata": {},
   "outputs": [],
   "source": [
    "def hidro (texto):\n",
    "    ret=[]\n",
    "    ret.append(sum([dfl.SequenceMatcher(None,item,\"hidrologia\").ratio()>0.75 for item in texto]))\n",
    "    ret.append(sum([dfl.SequenceMatcher(None,item,\"chuva\").ratio()>0.75 for item in texto]))\n",
    "    ret.append(sum([dfl.SequenceMatcher(None,item,\"milímetros\").ratio()>0.75 for item in texto]))\n",
    "    ret.append(sum([dfl.SequenceMatcher(None,item,\"nível\").ratio()>0.75 for item in texto]))\n",
    "    return ret\n"
   ]
  },
  {
   "cell_type": "code",
   "execution_count": null,
   "metadata": {},
   "outputs": [],
   "source": [
    "def vertimento (texto):\n",
    "    ret=[]\n",
    "    ret.append(sum([int(\"verti\" in item) for item in texto]))\n",
    "    ret.append(sum([int(\"vertedouro\" in item) for item in texto]))\n",
    "    ret.append(sum([dfl.SequenceMatcher(None,item,\"cúbicos\").ratio()>0.75 for item in texto]))\n",
    "    ret.append(sum([dfl.SequenceMatcher(None,item,\"vazão\").ratio()>0.75 for item in texto]))\n",
    "    return ret\n",
    "#esta função está fraca"
   ]
  },
  {
   "cell_type": "code",
   "execution_count": null,
   "metadata": {},
   "outputs": [],
   "source": [
    "def interrup (texto):\n",
    "    ret=[]\n",
    "    ret.append(sum([dfl.SequenceMatcher(None,item,\"intervenção\").ratio()>0.75 for item in texto]))\n",
    "    ret.append(sum([dfl.SequenceMatcher(None,item,\"deslig\").ratio()>0.75 for item in texto]))\n",
    "    ret.append(sum([dfl.SequenceMatcher(None,item,\"manutenção\").ratio()>0.75 for item in texto]))\n",
    "    ret.append(sum([dfl.SequenceMatcher(None,item,\"ocorrência\").ratio()>0.75 for item in texto]))\n",
    "    ret.append(sum([dfl.SequenceMatcher(None,item,\"manobra\").ratio()>0.75 for item in texto]))\n",
    "    return ret"
   ]
  },
  {
   "cell_type": "code",
   "execution_count": null,
   "metadata": {},
   "outputs": [],
   "source": [
    "def classificacao(texto):\n",
    "    return[sum(tensao(texto)),\n",
    "     sum(reverter(texto)),\n",
    "     sum(hidro(texto)),\n",
    "     sum(vertimento(texto)),\n",
    "     sum(interrup(texto))]"
   ]
  },
  {
   "cell_type": "code",
   "execution_count": 411,
   "metadata": {},
   "outputs": [],
   "source": [
    "def preprocess(entry):\n",
    "    entry=entry.replace(\"\\n\",' ').replace(\"Locutor 1:\",' ').replace(\"Locutor 2:\",' ').replace(\"uma unidade\",\"uma_unidade\").lower()\n",
    "    entry=entry.replace(\"salto santiago\",\"salto_santiago\").replace(\"cana brava\",\"cana_brava\").replace(\"jorge lacerda\",\"jorge_lacerda\").replace(\"pampa sul\",\"pampa_sul\").replace(\"são salvador\",\"são_salvador\").replace(\"passo fundo\",\"passo_fundo\")\n",
    "    entry = pattern.sub('', entry)\n",
    "    entry =entry.replace(\".\",\" \").replace(\",\",\" \")\n",
    "    arr_texto=entry.split(\" \")\n",
    "    return arr_texto"
   ]
  },
  {
   "cell_type": "code",
   "execution_count": null,
   "metadata": {
    "scrolled": true
   },
   "outputs": [],
   "source": [
    "f=open(\"20190611_024656_SIPTrunk-5_GERAL_24_33334811_32217299.txt\")\n",
    "texto=f.read()\n",
    "texto=preprocess(texto)\n",
    "[interrup(texto),\n",
    "reverter(texto),\n",
    "tensao(texto),\n",
    "vertimento(texto),\n",
    "hidro(texto)]\n",
    "texto"
   ]
  },
  {
   "cell_type": "code",
   "execution_count": null,
   "metadata": {},
   "outputs": [],
   "source": [
    "classificacao(arr_texto)"
   ]
  },
  {
   "cell_type": "code",
   "execution_count": null,
   "metadata": {},
   "outputs": [],
   "source": [
    "path = 'C:\\\\Users\\\\valej_000\\\\Documents\\\\GitHub\\\\Geracao\\\\TXT'\n",
    "\n",
    "files = [f for f in glob.glob(path + \"**/*.txt\", recursive=True)]\n",
    "df=[[]]\n",
    "for entry in files:\n",
    "    f=open(entry)\n",
    "    arr_texto=preprocess(entry)\n",
    "    df.append(classificacao(arr_texto))\n",
    "df=df[1:];print(df)"
   ]
  },
  {
   "cell_type": "code",
   "execution_count": null,
   "metadata": {},
   "outputs": [],
   "source": [
    "import numpy"
   ]
  },
  {
   "cell_type": "code",
   "execution_count": null,
   "metadata": {},
   "outputs": [],
   "source": [
    "len(df)\n",
    "#df=df[1:]"
   ]
  },
  {
   "cell_type": "code",
   "execution_count": null,
   "metadata": {
    "scrolled": true
   },
   "outputs": [],
   "source": [
    "[sum(x) for x in df]"
   ]
  },
  {
   "cell_type": "code",
   "execution_count": null,
   "metadata": {},
   "outputs": [],
   "source": [
    "dfv=numpy.vstack(df)\n",
    "def zero(x):return x==0\n",
    "list(filter(zero,[sum(x) for x in df]))"
   ]
  },
  {
   "cell_type": "code",
   "execution_count": null,
   "metadata": {},
   "outputs": [],
   "source": [
    "dfl.SequenceMatcher(None,\"compensando\",\"compensamos\").ratio()"
   ]
  },
  {
   "cell_type": "code",
   "execution_count": 462,
   "metadata": {},
   "outputs": [
    {
     "data": {
      "text/plain": [
       "'20190611_020612_siptrunk-6_geral_23_33336111_32217299'"
      ]
     },
     "execution_count": 462,
     "metadata": {},
     "output_type": "execute_result"
    }
   ],
   "source": [
    "preprocess(text)[1]"
   ]
  },
  {
   "cell_type": "code",
   "execution_count": 468,
   "metadata": {},
   "outputs": [],
   "source": [
    "def get_data(texto):\n",
    "    arr_texto=preprocess(texto)\n",
    "    data=arr_texto[1][:4]+\"-\"+arr_texto[1][4:6]+\"-\"+arr_texto[1][6:8]+\",\"+arr_texto[1][9:11]+\":\"+arr_texto[1][11:13]+\":\"+arr_texto[1][13:15]\n",
    "    return data"
   ]
  },
  {
   "cell_type": "code",
   "execution_count": 469,
   "metadata": {},
   "outputs": [
    {
     "data": {
      "text/plain": [
       "'2019-06-11,02:06:12'"
      ]
     },
     "execution_count": 469,
     "metadata": {},
     "output_type": "execute_result"
    }
   ],
   "source": [
    "get_data(text)"
   ]
  },
  {
   "cell_type": "code",
   "execution_count": null,
   "metadata": {},
   "outputs": [],
   "source": [
    "def get_data_os(file):\n",
    "    return os.path.basename(file)[:4]+\"-\"+os.path.basename(file)[4:6]+\"-\"+os.path.basename(file)[6:8]\n",
    "    "
   ]
  },
  {
   "cell_type": "code",
   "execution_count": null,
   "metadata": {},
   "outputs": [],
   "source": [
    "file=\"C:\\\\Users\\\\valej_000\\\\Documents\\\\GitHub\\\\Geracao\\\\TXT\\\\20190611_001659_SIPTrunk-2_GERAL_52_32217300_33338111.txt\"\n",
    "get_data_os(file)"
   ]
  },
  {
   "cell_type": "code",
   "execution_count": null,
   "metadata": {},
   "outputs": [],
   "source": [
    "f=open(file)\n",
    "text=f.readlines()"
   ]
  },
  {
   "cell_type": "code",
   "execution_count": null,
   "metadata": {},
   "outputs": [],
   "source": [
    "if \"ONS\" in text[1] or \"COG\" in text[1]:\n",
    "    text[1]=text[1].replace(\"Locutor 1:\",\"\").replace(\"Locutor 2:\",\"\")\n",
    "    text[1]= pattern.sub('', text[1])\n",
    "    print(text[1])"
   ]
  },
  {
   "cell_type": "code",
   "execution_count": null,
   "metadata": {},
   "outputs": [],
   "source": [
    "def get_ONS(tex):\n",
    "    vetor=[\"ONS\",\"Nordeste\",\"Norte\",\"Sul\",\"Sudeste\",\"COG\",\"Oeste\",\"Centro\",'Sul,','Regional','Sul.',\"Oi\",\"Prado\",\"Thibes\",\"Schimanski\",\"Mauro\"]\n",
    "    text=tex.split('\\n')\n",
    "    if \"ONS\" in text[1] or \"COG\" in text[1] or \"CNOS\" in text[1]:\n",
    "        a=text[1].replace(\"Locutor 1:\",\"\").replace(\"Locutor 2:\",\"\").replace(\".\",\"\").replace(\",\",\"\")\n",
    "        a= pattern.sub('', a).replace(\"\\n\",\"\")\n",
    "        b=a.split(\" \")\n",
    "        b = list(filter(None, b))\n",
    "        c=''\n",
    "        for i in range(0,len(b)): \n",
    "                if b[i][0].isupper():\n",
    "                    if b[i] not in vetor:\n",
    "                        c=b[i]\n",
    "        return c\n",
    "    if \"ONS\" in text[2] or \"COG\" in text[2] or \"CNOS\" in text[2]:\n",
    "        a=text[2].replace(\"Locutor 1:\",\"\").replace(\"Locutor 2:\",\"\").replace(\".\",\"\").replace(\",\",\"\")\n",
    "        a= pattern.sub('', a).replace(\"\\n\",\"\")\n",
    "        b=a.split(\" \")\n",
    "        b = list(filter(None, b))\n",
    "        c=''\n",
    "        for i in range(0,len(b)): \n",
    "            if b[i][0].isupper():\n",
    "                if b[i] not in vetor:\n",
    "                    c=b[i]\n",
    "        return c"
   ]
  },
  {
   "cell_type": "code",
   "execution_count": null,
   "metadata": {},
   "outputs": [],
   "source": [
    "temp\n",
    "b=temp.split('\\n');b"
   ]
  },
  {
   "cell_type": "code",
   "execution_count": null,
   "metadata": {},
   "outputs": [],
   "source": [
    "path = 'C:\\\\Users\\\\valej_000\\\\Documents\\\\GitHub\\\\Geracao\\\\TXT'\n",
    "files = [f for f in glob.glob(path + \"**/*.txt\", recursive=True)]\n",
    "df=[[]]\n",
    "for entry in files:\n",
    "    f=open(entry)\n",
    "    temp=f.read()\n",
    "    df.append(get_ONS(temp))\n",
    "print(df)\n"
   ]
  },
  {
   "cell_type": "code",
   "execution_count": null,
   "metadata": {},
   "outputs": [],
   "source": [
    "def get_tags(text):\n",
    "    ret=[]\n",
    "    stext=preprocess(text)\n",
    "    c=classificacao(stext)\n",
    "    if(c[0]>0):\n",
    "        t=tensao(stext)\n",
    "        if t[3]>0:\n",
    "            if sum([dfl.SequenceMatcher(None,item,\"máximo\").ratio()>0.75 for item in stext])>0:\n",
    "                ret.append(\"Aumento para tensão máxima\")\n",
    "            else:\n",
    "                ret.append(\"Aumento de tensão\")\n",
    "        elif t[4]>0:\n",
    "            if sum([dfl.SequenceMatcher(None,item,\"mínimo\").ratio()>0.75 for item in stext])>0:\n",
    "                ret.append(\"Redução para tensão mínima\")\n",
    "            else:\n",
    "                ret.append(\"Redução de tensão\")\n",
    "        elif t[0]>0:\n",
    "            if sum([dfl.SequenceMatcher(None,item,\"máximo\").ratio()>0.75 for item in stext])>0:\n",
    "                ret.append(\"Aumento para tensão máxima\")\n",
    "            elif sum([dfl.SequenceMatcher(None,item,\"mínimo\").ratio()>0.75 for item in stext])>0:\n",
    "                ret.append(\"Redução para tensão mínima\")\n",
    "\n",
    "    if(c[1]>0):\n",
    "        if reverter(stext)[4]>0:\n",
    "            ret.append(\"Reversão de unidade em CAG\")\n",
    "        else:\n",
    "            ret.append(\"Compensação de gerador\")\n",
    "    if(c[2]>0):\n",
    "        h=hidro(stext)\n",
    "        if h[0]>0:\n",
    "            ret.append(\"Informação hidrológica\")\n",
    "        if h[2]>0 or hidro(stext)[1]>0:\n",
    "            ret.append(\"Informação pluviométrica\")\n",
    "        if h[3]>0:\n",
    "            ret.append(\"Informação de nível\")\n",
    "    if(c[3]>0):\n",
    "        ret.append(\"Vertimento\")\n",
    "    if(c[4]>0):\n",
    "        i=interrup(stext)\n",
    "        if i[1]>0:\n",
    "            ret.append(\"Desligamento\")\n",
    "        if i[2]>0 or i[0]>0:\n",
    "            ret.append(\"Manutenção de unidade\")\n",
    "        else: ret.append(\"Ocorrência\")\n",
    "    return ret"
   ]
  },
  {
   "cell_type": "code",
   "execution_count": 474,
   "metadata": {},
   "outputs": [],
   "source": [
    "def get_complexidade(tex):\n",
    "    text=preprocess(tex)\n",
    "    if sum(classificacao(text)[2:])>0:\n",
    "        return \"Complexo\"\n",
    "    else:\n",
    "        return \"Simples\"\n"
   ]
  },
  {
   "cell_type": "code",
   "execution_count": 421,
   "metadata": {},
   "outputs": [],
   "source": [
    "def get_usinas(text):\n",
    "    usinas=[\"salto_santiago\",\"itá\",\"cana_brava\",\"são_salvador\",\"jaguara\",\"umburanas\",\"pampa_sul\",\"jorge_lacerda\",\"estreito\",\"utlc\",\"machadinho\",\"osório\",\"passo_fundo\",\"lages\"]\n",
    "    text2=preprocess(text)\n",
    "    ret=list(filter(lambda x:x in text2,usinas))\n",
    "    return [i.upper() for i in ret]"
   ]
  },
  {
   "cell_type": "code",
   "execution_count": 420,
   "metadata": {},
   "outputs": [
    {
     "ename": "TypeError",
     "evalue": "'str' object is not callable",
     "output_type": "error",
     "traceback": [
      "\u001b[1;31m---------------------------------------------------------------------------\u001b[0m",
      "\u001b[1;31mTypeError\u001b[0m                                 Traceback (most recent call last)",
      "\u001b[1;32m<ipython-input-420-f7a4dd277864>\u001b[0m in \u001b[0;36m<module>\u001b[1;34m\u001b[0m\n\u001b[0;32m     11\u001b[0m \u001b[0msupertext\u001b[0m\u001b[1;33m=\u001b[0m\u001b[0mlist\u001b[0m\u001b[1;33m(\u001b[0m\u001b[1;33m)\u001b[0m\u001b[1;33m\u001b[0m\u001b[1;33m\u001b[0m\u001b[0m\n\u001b[0;32m     12\u001b[0m \u001b[1;32mfor\u001b[0m \u001b[0mentry\u001b[0m \u001b[1;32min\u001b[0m \u001b[0mfiles\u001b[0m\u001b[1;33m:\u001b[0m\u001b[1;33m\u001b[0m\u001b[1;33m\u001b[0m\u001b[0m\n\u001b[1;32m---> 13\u001b[1;33m     \u001b[0mf\u001b[0m\u001b[1;33m=\u001b[0m\u001b[0mopen\u001b[0m\u001b[1;33m(\u001b[0m\u001b[0mentry\u001b[0m\u001b[1;33m)\u001b[0m\u001b[1;33m.\u001b[0m\u001b[0mencoding\u001b[0m\u001b[1;33m(\u001b[0m\u001b[1;34m\"UTF-8\"\u001b[0m\u001b[1;33m)\u001b[0m\u001b[1;33m\u001b[0m\u001b[1;33m\u001b[0m\u001b[0m\n\u001b[0m\u001b[0;32m     14\u001b[0m     \u001b[0msupertext\u001b[0m\u001b[1;33m.\u001b[0m\u001b[0mappend\u001b[0m\u001b[1;33m(\u001b[0m\u001b[0mf\u001b[0m\u001b[1;33m.\u001b[0m\u001b[0mread\u001b[0m\u001b[1;33m(\u001b[0m\u001b[1;33m)\u001b[0m\u001b[1;33m)\u001b[0m\u001b[1;33m\u001b[0m\u001b[1;33m\u001b[0m\u001b[0m\n\u001b[0;32m     15\u001b[0m \u001b[0msupertext\u001b[0m\u001b[1;33m\u001b[0m\u001b[1;33m\u001b[0m\u001b[0m\n",
      "\u001b[1;31mTypeError\u001b[0m: 'str' object is not callable"
     ]
    }
   ],
   "source": [
    "path = 'C:\\\\Users\\\\valej_000\\\\Documents\\\\GitHub\\\\Geracao\\\\TXT'\n",
    "files = [f for f in glob.glob(path + \"**/*.txt\", recursive=True)]\n",
    "df=[[]]\n",
    "for entry in files:\n",
    "    f=open(entry)\n",
    "    temp=f.read()\n",
    "    df.append(get_ONS(temp))\n",
    "df=df[1:]\n",
    "indice=list(map(lambda x:x!=None,df))\n",
    "\n",
    "supertext=list()\n",
    "for entry in files:\n",
    "    f=open(entry)\n",
    "    supertext.append(f.read())\n",
    "supertext\n",
    "\n",
    "#supertext_filter1=supertext[i for i, x in enumerate(indice) if x]\n",
    "supertext_filter1=list([supertext[i] for i in[i for i, x in enumerate(indice) if x]])\n",
    "supertext_filter1"
   ]
  },
  {
   "cell_type": "code",
   "execution_count": null,
   "metadata": {},
   "outputs": [],
   "source": [
    "import pandas\n",
    "import numpy"
   ]
  },
  {
   "cell_type": "code",
   "execution_count": 422,
   "metadata": {},
   "outputs": [
    {
     "data": {
      "text/plain": [
       "[['UMBURANAS'],\n",
       " ['UMBURANAS'],\n",
       " [],\n",
       " ['ITÁ'],\n",
       " ['CANA_BRAVA', 'SÃO_SALVADOR'],\n",
       " ['JAGUARA'],\n",
       " ['ITÁ'],\n",
       " ['ITÁ'],\n",
       " ['JAGUARA'],\n",
       " ['SALTO_SANTIAGO'],\n",
       " ['PAMPA_SUL'],\n",
       " ['SALTO_SANTIAGO'],\n",
       " ['UTLC'],\n",
       " ['ITÁ'],\n",
       " ['MACHADINHO'],\n",
       " ['MACHADINHO'],\n",
       " ['MACHADINHO'],\n",
       " ['SALTO_SANTIAGO', 'ITÁ'],\n",
       " ['JORGE_LACERDA'],\n",
       " ['SALTO_SANTIAGO'],\n",
       " ['OSÓRIO', 'PASSO_FUNDO'],\n",
       " ['PASSO_FUNDO'],\n",
       " ['SALTO_SANTIAGO'],\n",
       " ['ESTREITO'],\n",
       " [],\n",
       " ['OSÓRIO'],\n",
       " ['SALTO_SANTIAGO', 'OSÓRIO', 'PASSO_FUNDO'],\n",
       " ['PASSO_FUNDO'],\n",
       " ['SALTO_SANTIAGO', 'MACHADINHO'],\n",
       " [],\n",
       " ['ITÁ'],\n",
       " ['SALTO_SANTIAGO', 'OSÓRIO'],\n",
       " ['SALTO_SANTIAGO', 'PAMPA_SUL', 'OSÓRIO'],\n",
       " ['SALTO_SANTIAGO', 'OSÓRIO'],\n",
       " ['UTLC'],\n",
       " ['OSÓRIO'],\n",
       " [],\n",
       " ['SALTO_SANTIAGO', 'ITÁ', 'OSÓRIO'],\n",
       " ['ITÁ', 'MACHADINHO'],\n",
       " [],\n",
       " ['PASSO_FUNDO'],\n",
       " ['PASSO_FUNDO'],\n",
       " ['SALTO_SANTIAGO']]"
      ]
     },
     "execution_count": 422,
     "metadata": {},
     "output_type": "execute_result"
    }
   ],
   "source": [
    "#list(map(get_data,supertext_filter1))\n",
    "#list(map(get_ONS,supertext_filter1))\n",
    "#list(map(get_tags,supertext_filter1))\n",
    "list(map(get_usinas,supertext_filter1))"
   ]
  },
  {
   "cell_type": "code",
   "execution_count": 430,
   "metadata": {},
   "outputs": [
    {
     "data": {
      "text/plain": [
       "['ï»¿Fonte: 20190611_001609_SIPTrunk-5_GERAL_36_32217940_32217300.wav\\nLocutor 2: COS Engie Prado\\nLocutor 1: Prado Ã© o CÃ©lio COG\\nLocutor 2: Fala CÃ©lio.\\nLocutor 1: Ã‰ Prado a gente teve uma ocorrÃªncia lÃ¡ em Umburanas no parque Y.  \\nLocutor 2: Ãƒrram.\\nLocutor 1: Deu sobrecorrente sequÃªncia negativa.\\nLocutor 2: TÃ¡.\\nLocutor 1: No circuito ele sÃ³ tem um circuito nÃ©. \\nLocutor 2: Isso\\nLocutor 1: Ele sÃ³ tem o circuito um.\\nLocutor 2: TÃ¡ ok \\nLocutor 1: TÃ¡ ok \\nLocutor 2: Ã‰ vocÃªs vÃ£o fazer inspeÃ§Ã£o.\\nLocutor 1: A gente vai acionar a equipe local para fazer a inspeÃ§Ã£o mas Ã© como ele dÃ¡ sÃ³ quatro por cento do parque nÃ£o vai precisar de documentos entÃ£o vamos ver o que eles vÃ£o querer fazer ok.\\nLocutor 2: Perfeito.\\nLocutor 1: Valeu obrigado tchau.\\n',\n",
       " 'Fonte: 20190611_001659_SIPTrunk-2_GERAL_52_32217300_33338111.wav\\nLocutor 2: ONS Nordeste Pinheiro boa noite.\\nLocutor 1: Boa noite Pinheiro Prado COS Engie.\\nLocutor 2: Diga Prado.\\nLocutor 1: Agora às dezesseis minutos nós tivemos uma ocorrência lá em Umburanas parque vinte cinco ele desligou por sobre corrente.\\nNa verdade foi aos doze para ser mais exata a hora da ocorrência.\\nPinheiro.\\nAlô.',\n",
       " 'Fonte: 20190611_012515_SIPTrunk-6_GERAL_25_32217300_33334811.wav\\nLocutor 2: ONS Regional Sul, Torres.\\nLocutor 1: Torres, Prado COS Engie.\\nLocutor 2: Oi Prado.\\nLocutor 1: Itá já chegou no três, sete, zero no nível do reservatório, tá.\\nLocutor 2: Três, sete, zero em Itá? Tá.  \\nLocutor 1: Unhum.\\nLocutor 2: Tá, beleza.\\nLocutor 1: Bele.\\nLocutor 1: Ééé... não é três, sete, zero... é três, sete, zero. \\nLocutor 2: É três, sete, zero mesmo, né?\\nLocutor 1: Três, meia, nove, nove, nove. É, isso mesmo.\\nLocutor 2: Tá, já te retorno ai então.\\nLocutor 1: É, isso mesmo. Três, sete, zero.\\nLocutor 2: Obrigado, até mais.\\nLocutor 1: Tá ok, até mais.\\n\\n',\n",
       " 'Fonte: 20190611_020612_SIPTrunk-6_GERAL_23_33336111_32217299.wav\\nLocutor 2: COS Engie, Prado.\\nLocutor 1: Prado, CNOS Centro Oeste, Luiz.\\nLocutor 2: Fala Luiz.\\nLocutor 1: Na UHE Cana Brava, tem condições de você reduzir mais um pouco a tensão das unidades geradoras?\\nLocutor 2: Sim.  \\nLocutor 1: Você reduz pro mínimo, por favor.\\nLocutor 2: Cana Brava com tensão mínima.\\nLocutor 1: Isso, obrigado.\\nLocutor 2: São Salvador também... \\nLocutor 1: São Salvador também, por favor.\\nLocutor 2: Deve dar o valor de máquina.\\nLocutor 1: Obrigado, até mais\\nLocutor 2: Perfeito, então. Valeu. Feito e até mais.\\n\\n\\n',\n",
       " 'Fonte: 20190611_023103_SIPTrunk-4_GERAL_15_33332111_32217299.wav\\nLocutor 2: COS Engie, Prado.\\nLocutor 1: Prado, é Vitor do ONS Regional Sudeste, bom dia.\\nLocutor 2: Fala Vitor.\\nLocutor 1: Por gentileza, vamos deixar a tensão na barra de Jaguara no mínimo?\\nLocutor 2: Jaguara com tensão mínima.  \\nLocutor 1: Obrigado amigo, até mais.\\nLocutor 2: Valeu.\\n\\n\\n',\n",
       " 'Fonte: 20190611_024656_SIPTrunk-5_GERAL_24_33334811_32217299.wav\\nLocutor 2: COS Engie, Prado.\\nLocutor 1: Oi Prado, é Torres do ONS Regional Sul.\\nLocutor 2: Fala Torres.\\nLocutor 1: É o seguinte, vamos compensar um grupo pelo sistema em Itá? Eee, na verdade a intenção é compensar dois, tá! Ai você já pode trocar essa defluência de duas máquinas por vertimento, tá.\\nLocutor 2: Em Itá.  \\nLocutor 1: Isso, em Itá.\\nLocutor 2: Perfeito.\\nLocutor 1: Tá bom, obrigado.\\nLocutor 2: Valeu, até mais.\\n\\n\\n',\n",
       " 'Fonte: 20190611_031711_SIPTrunk-2_GERAL_37_32217300_33334811.wav\\nLocutor 2: Marcelo ONS regional sul.\\nLocutor 1: Marcelo Prado COS Engie.\\nLocutor 2: Oi Prado.\\nLocutor 1: Duas horas e cinquenta compensamos a um em Itá.\\nLocutor 2: Duas e cinquenta UG1 em Itá compensando Ok.\\nLocutor 1: Três e quatro compensamos a três.\\nLocutor 2: Três e quatro a três compensando ok.\\nLocutor 1: E as três horas incrementamos o vertido.\\nLocutor 2: Três horas qual o nível?.\\nLocutor 1: Três sete zero zero zero.\\nLocutor 2: Ok.\\nLocutor 1: E vasão vertida sete nove zero metros cúbicos por segundo.\\nLocutor 2: Valeu obrigado.\\nLocutor 1: Obrigado.',\n",
       " 'Fonte: 20190611_054635_SIPTrunk-4_GERAL_26_33332111_32217299.wav\\nLocutor 2: COS Engie, Prado.\\nLocutor 1: Oi Prado, Vitório do Sudeste do ONS, tudo bem?\\nLocutor 2: Fala Vitório.\\nLocutor 1: Prado, vamos maximizar o reativo de Jaguara, fornecimento.\\nLocutor 2: Tá, tu quer a tensão mínima?.\\nLocutor 1: Máxima.\\nLocutor 2: Máxima, tensão máxima.\\nLocutor 1: Isso, tá bom, obrigado.\\nLocutor 2: Beleza. Jaguara tensão máxima. Valeu até mais.\\n\\n\\n',\n",
       " 'Fonte: 20190611_055146_SIPTrunk-6_GERAL_15_33334811_32217299.wav\\nLocutor 2: COS Engie, Prado.\\nLocutor 1: Prado, Marcelo do ONS regional Sul.\\nLocutor 2: Manda Marcelo.\\nLocutor 1: Prado, por favor uma unidade para gerador em Salto Santiago, no CAG.\\nLocutor 2: Ok, gerar uma unidade em Santiago.\\nLocutor 1: Tranquilo.\\nLocutor 2: Valeu até mais.\\n\\n\\n',\n",
       " 'Fonte: 20190611_060158_SIPTrunk-6_GERAL_14_32217300_33334811.wav\\nLocutor 2: Marcelo, ONS Regional Sul.\\nLocutor 1: Marcelo, Prado COS Engie.\\nLocutor 2: Oi Prado.\\nLocutor 1: É Pampa Sul agora quer elevar para duzentos e quarenta mega a geração total da usina.\\nLocutor 2: Duzentos e quarenta mega, ok. Feito, valeu.\\nLocutor 1: Beleza. Até mais.\\n\\n\\n',\n",
       " 'Fonte: 20190611_060637_SIPTrunk-5_GERAL_29_33334811_32217299.wav\\nLocutor 2: COS Engie, Prado.\\nLocutor 1: Prado, é ONS Regional Sul, Dionei. \\nLocutor 2: Manda Dionei.\\nLocutor 1: É... UG um de Salto Santiago quando foi pro máximo o reativo ficou daquele jeito mesmo, né? A máquina foi para dezoito ponto dois.\\nLocutor 2: Eu acredito que sim, deve ter acompanhado a...\\nLocutor 1: Tá, então pode elevar duzentos volts na tensão de máquinas nessas ai que estão compensando.\\nLocutor 2: Perfeito, elevar duzentos volts nas que estão compensando.\\nLocutor 1: Correto, obrigado.\\nLocutor 2: Valeu, até mais.\\n \\n\\n\\n',\n",
       " 'Fonte: 20190611_061135_SIPTrunk-5_GERAL_22_32217300_33334811.wav\\nLocutor 2: Marcelo ONS, Marcelo ONS Regional Sul.\\nLocutor 1: É... Marcelo, Prado COS Engie.\\nLocutor 2: Oi Prado.\\nLocutor 1: É... UTLC teve um problema na correia de cinza e eles vão ter que desligar a máquina.\\nLocutor 2: Deligando. Tá ok, então. Beleza, valeu.\\nLocutor 1: Até.\\nLocutor 2: Tá ok, combinado.\\nLocutor 1: Valeu, beleza.\\nLocutor 2: Valeu.\\nLocutor 1: Aí em seguida, eu envio pra ti o SGI. Valeu, até mais.\\n\\n\\n \\n\\n\\n',\n",
       " 'Fonte: 20190611_061229_SIPTrunk-5_GERAL_16_33334811_32217299.wav\\nLocutor 2: COS Engie, Prado.\\nLocutor 1: Prado, Marcelo ONS Regional Sul.\\nLocutor 2: É, fala Marcelo.\\nLocutor 1: É... é por favor em Itá uma unidade como gerador.\\nLocutor 2: Uma unidade para gerador em Itá.\\nLocutor 1: Exato.\\nLocutor 2: Valeu.\\nLocutor 1: Valeu.\\n\\n\\n \\n\\n\\n',\n",
       " 'Fonte: 20190611_061729_SIPTrunk-2_GERAL_22_33334811_32217299.wav\\nLocutor 2: COS Engie, Prado.\\nLocutor 1: Prado, Marcelo ONS Regional Sul.\\nLocutor 2: Fala Marcelo.\\nLocutor 1: Prado, por favor em Machadinho, podemos elevar para o máximo a geração? Aí nisso tu consegue trocar o vertido, né? Reduzir o vertido.\\nLocutor 2: Isso.\\nLocutor 1: Ok.\\nLocutor 2: Isso, deixo no mínimo ali o vertido. Valeu.\\nLocutor 1: Tá, valeu. Obrigado. Até.\\nLocutor 2: Até mais.\\n\\n\\n \\n\\n\\n',\n",
       " 'Fonte: 20190611_061854_SIPTrunk-1_GERAL_42_32217300_33334811.wav\\nLocutor 2: Marcelo ONS Regional Sul.\\nLocutor 1: Marcelo, Prado COS Engie.\\nLocutor 2: Oi Prado.\\nLocutor 1: O... Machadinho pra fechar o vertedouro, eu tinha esquecido, mas é só com acompanhamento.\\nLocutor 2: A tá, não faz a troca.\\nLocutor 1: Não, não faz porque precisa ambiental verificar a hora que estiver fechando por causa das poças. Pra subir não precisa, porque pra subir todo santo ajuda. Mas, na volta ai precisa porque pode fazer alguma poça e morrer peixe.\\nLocutor 2: Ah, então deixa assim.\\nLocutor 1: Tu não quer que movimente a carga, então?\\nLocutor 2: Não, não porque já está caindo bastante o nível lá então, aí não tem. Mantemos desse jeito. Era só se poderíamnos... era só se podíamos trocar.\\nLocutor 1: Tá, beleza. Valeu.\\nLocutor 1: Oitocentos e alguma, ela tava com oitocentos? \\nLocutor 2: É oitocentos e sessenta, né? Tá bom valeu.\\nLocutor 1: Oitocentos e sessenta. Beleza, valeu. Até mais.\\n\\n\\n \\n\\n\\n',\n",
       " 'Fonte: 20190611_062039_SIPTrunk-2_GERAL_24_32217300_33334811.wav\\nLocutor 2: Marcelo, ONS Regional Sul.\\nLocutor 1: Marcelo, Prado COS Engie.\\nLocutor 2: Oi Prado.\\nLocutor 1: O AESA de Machadinho se tem interesse em fechar o vertedouro, acredito que tem que acionar um pouquinho antes para acionar a ambiental, tá?\\nLocutor 2: Ah sim, então tá. Pode acionar o pessoal. Tá bom que a gente vai reduzir...\\nLocutor 1: Tá beleza, então.\\nLocutor 2: Valeu, até.\\nLocutor 1: Ai, a hora que eles chegarem lá eu te aviso. Valeu, até mais.\\n\\n\\n \\n\\n\\n',\n",
       " 'Fonte: 20190611_062153_SIPTrunk-2_GERAL_47_32217300_33334811.wav\\nLocutor 2: ONS Regional Sul Torres\\nLocutor 1: Torres Prado COS ENGIE.\\nLocutor 2: Oi Prado.\\nLocutor 1: Primeiro seis e treze máquina 1 de Itá como gerador.\\nLocutor 2: Opa Itá máquina um seis horas e treze minutos como gerador. \\nLocutor 1: Isso e aí alteração de vertimento em Salto Santiago.\\nLocutor 2: Tá então deixa eu anotar aqui. Só um minutinho. Qual horário você considerou Prado.\\nLocutor 1: Seis e cinco.\\nLocutor 2: Seis e cinco nível montante.\\nLocutor 1: Nível de montante cinco zero três nove oito.\\nLocutor 2: Cinco zero três nove oito. E a vazão ficou com quanto.\\nLocutor 1: Um nove oito sete.\\nLocutor 2: Um nove oito sete ok obrigado até mais.\\nLocutor 1: Valeu obrigado você.',\n",
       " 'Fonte: 20190611_063617_SIPTrunk-6_GERAL_50_33334811_32217299.wav\\nLocutor 1: COS Engie Prado.\\nLocutor 2: Prado Ã© ONS Regional Sul Diamei.\\nLocutor 1: Fala Diamei.\\nLocutor 2: Prado sobre Jorge Lacerda C.\\nLocutor 1: Certo.\\nLocutor 2: O problema foi entÃ£o na esteira de cinza.\\nLocutor 1: Cinza isso.\\nLocutor 2: Isso aÃ\\xad queria ver contigo o horÃ¡rio que desligou a mÃ¡quina.\\nLocutor 1: TÃ¡ para mim tava olhando aqui agora foi seis e dezessete. Falha de abertura de disjuntor.\\nLocutor 2: Seis e dezessete ok. E qual foi o problema na esteira de cinza.\\nLocutor 1: Eu acho que arrebentou uma sessÃ£o da esteira.\\nLocutor 2: TÃ¡ tu pode ver o que aconteceu e previsÃ£o para retornar essa mÃ¡quina.\\nLocutor 1: Mas daqui uns dias eu passo o SGI e aÃ\\xad o pessoal vai descrever direitinho a ocorrÃªncia mas eu acho que foi um rompimento na esteira de cinza.\\nLocutor 2: TÃ¡ bom eu aguardo.\\nLocutor 1: Perfeito. Valeu.\\nLocutor 2: Obrigado.',\n",
       " 'Fonte: 20190611_072049_SIPTrunk-6_GERAL_32_32217917_33334811.wav\\nLocutor 2: Marcelo, ONS Regional Sul.\\nLocutor 1: COS Engie, Schimanski. Tudo bem, Marcelo?\\nLocutor 2: Oi Schimanski, tudo bom.\\nLocutor 1: É, um horário de máquina lá de Salto Santiago pra passar pra ti.\\nLocutor 2: Horário de máquina de Santiago, sim.\\nLocutor 1: É, Santiago quatro como gerador sete e dezesseis.\\nLocutor 2: Sete e dezesseis a quatro de Santiago para gerador. \\nLocutor 1: Exato, e aproveitando dados de chuva.\\nLocutor 2: Sim.\\nLocutor 1: É, na verdade, nas usinas da Engie foi tudo zero.\\nLocutor 2: Tudo zero de chuva.\\nLocutor 1: Exato.\\nLocutor 2: Ok, valeu obrigado.\\nLocutor 1: Valeu, obrigado. Até mais.\\n\\n',\n",
       " 'Fonte: 20190611_074145_SIPTrunk-5_GERAL_15_7777_32217299.wav\\nLocutor 2: COS Engie, Schimanski.\\nLocutor 1: Schimanski. É o Maison, do ONS Regional Sul.\\nLocutor 2: Pois não, Maison.\\nLocutor 1: Schimanski sobre três kV na barra de Passo Fundo e Salto Osório, por favor.\\nLocutor 2: Passo Fundo e Salto Osório cada uma elevar três kV na barra. \\nLocutor 1: Ok, obrigado. Até mais, tchau.\\nLocutor 2: Bezeza, valeu. Até mais, tchau.\\n\\n',\n",
       " 'Fonte: 20190611_074226_SIPTrunk-5_GERAL_14_32217300_32217920.wav\\nLocutor 2: COG, Karla.\\nLocutor 1: COS Schimanski. Bom dia Karla. Tudo bem?\\nLocutor 2: Oi Schimanski, bom dia.\\nLocutor 1: Por favor, em Passo Fundo precisamos elevar três kV na barra.\\nLocutor 2: Elevar três kV na barra em Passo Fundo. \\nLocutor 1: Exato. Obrigado.\\nLocutor 2: Tá ok. Obrigada.\\nLocutor 1: Tá, ok. Tchau.\\n\\n',\n",
       " 'Fonte: 20190611_231327_SIPTrunk-7_GERAL_25_33334811_32217299.mp3\\nLocutor 1: Thibes COS Engie.\\nLocutor 2: Thibes ONS Regional Sul Augusto.\\nLocutor 1: Boa noite Augusto tranquilo meu amigo.\\nLocutor 2: Boa noite tudo bem e vocÃª.\\nLocutor 1: Tudo jÃ³ia tambÃ©m o que posso te ajudar cara.\\nLocutor 2: EntÃ£o tÃ¡ bom. Thibes reduz trezentos volts de geraÃ§Ã£o em ItÃ¡ e Salto Santiago.\\nLocutor 1: Reduzir trezentos volts da tensÃ£o de ItÃ¡ e Salto Santiago.\\nLocutor 2: Isso mesmo.\\nLocutor 1: Combinado Augusto providenciando cara.\\nLocutor 2: Obrigado atÃ© mais tchau.\\nLocutor 1: Valeu atÃ© tchau.',\n",
       " 'Fonte: 20190611_232642_SIPTrunk-6_GERAL_24_33336111_32217299.mp3\\nLocutor 1: COS Engie Krauze.\\nLocutor 2: Krauze ONS Norte Luis tudo bom cara.\\nLocutor 1: Todo bom seu Luis.\\nLocutor 2: Por favor Estreito vamos reduzir a tensÃ£o nas unidades geradoras pro mÃ\\xadnimo da faixa permitida reduzindo a tensÃ£o na barra.\\nLocutor 1: TensÃ£o no mÃ\\xadnimo nÃ© eu tenho duzentos volts para eles alÃ\\xad sÃ³.\\nLocutor 2: Reduz lÃ¡ por favor para a gente reduzir lÃ¡ a tensÃ£o na barra.\\nLocutor 1: Falou ok.\\nLocutor 2: Obrigado atÃ© mais.\\nLocutor 1: Ok atÃ© mais tchau.',\n",
       " 'Fonte: 20190611_234627_SIPTrunk-4_GERAL_18_33334811_32217299.wav\\nLocutor 2: Thibes, COS Engie.\\nLocutor 1: Oi Thibes, é Torres ONS Regional Sul.\\nLocutor 2: Sim, Torres.\\nLocutor 1: É, por favor, vamos converter mais uma unidade geradora para compensador síncrono em Salto Osório.\\nLocutor 2: Compensar mais um grupo pelo sistema em Salto Osório. \\nLocutor 1: Ok.\\nLocutor 2: Combinado, Torres.\\nLocutor 1: Obrigado, tchau.\\nLocutor 2: Valeu, tchau.\\n\\n\\n',\n",
       " 'Fonte: 20190611_234723_SIPTrunk-6_GERAL_27_33334811_32217299.wav\\nLocutor 2: Thibes, COS Engie.\\nLocutor 1: Oi Thibes, aqui é Guilherme do ONS Centro Regional Sul.\\nLocutor 2: Boa noite Guilherme, tudo certo?\\nLocutor 1: Boa noite, cara. Tudo certo.\\nLocutor 2: Tudo tranquilo, meu amigo?\\nLocutor 1: Tudo certo.\\nLocutor 1: O Thibes, por favor, reduz quatrocentos volts na tensão de máquina de Salto Santiago e dois kV nas barras de Passo Fundo e Salto Osório.\\nLocutor 2: Reduzir quatrocentos volts na tensão de Salto Santiago e reduzir dois kV na barra de Passo Fundo e Salto Osório.\\nLocutor 1: Correto.\\nLocutor 2: Combinado Guilherme, estou providenciando.\\nLocutor 1: Valeu, até mais, tchau tachau.\\nLocutor 2: Valeu, tchau.\\n\\n\\n',\n",
       " 'Fonte: 20190611_234839_SIPTrunk-7_GERAL_11_32217299_32217920.wav\\nLocutor 2: COG, Ramos.\\nLocutor 1: Oi Ramos, Thibes do COS Engie.\\nLocutor 2: Oi Thibes.\\nLocutor 1: Por favor, reduz dois kV na barra de Passo Fundo.\\nLocutor 2: Reduzir dois kV na barra de Passo fundo.\\nLocutor 1: Exato.\\nLocutor 2: Ok.\\nLocutor 1: Valeu, tchau.\\nLocutor 2: Até mais.\\n\\n\\n',\n",
       " 'Fonte: 20190612_001444_SIPTrunk-6_GERAL_32_33334811_32217299.mp3\\nLocutor 1: Thibes COS Engie\\nLocutor 2: Thibes ONS Regional Sul Adriano.\\nLocutor 1: Sim Adriano.\\nLocutor 2: Poderia reduzir trezentos volts em ItÃ¡ e trezentos volts em Machadinho.\\nLocutor 1: Reduzir trezentos volts na tensÃ£o em ItÃ¡ e Machadinho.\\nLocutor 2: Isto.\\nLocutor 1: Vou ver o que eu consigo lÃ¡ cara.\\nLocutor 2: Isso deixa os dois no mÃ\\xadnimo entÃ£o.\\nLocutor 1: TÃ¡ tensÃ£o no mÃ\\xadnimo combinado.\\nLocutor 2: E Salto santiago pode reduzir uns quinhentos se puder.\\nLocutor 1: Senhora Santiago reduzir quinhentos tÃ¡ se eu conseguir eu reduzo isso aÃ\\xad se nÃ£o deixo no mÃ\\xadnimo.\\nLocutor 2: Obrigado isto valeu.\\nLocutor 1: Beleza valeu.',\n",
       " 'Fonte: 20190612_005255_SIPTrunk-6_GERAL_22_32217300_33334811.mp3\\n\\nLocutor 2: ONS Centro Regional Sul Adriano\\nLocutor 1: Tibes COS ENGIE\\nLocutor 2: Oi Tibes\\nLocutor 1: O horário de comutação de máquina lá em Itá, Adriano\\nLocutor 2: Qual é o grupo? \\nLocutor 1: É a unidade 4 de Itá, 0 hora e 51 minutos compensou pelo sistema\\nLocutor 2: 0 e 51 unidade 4 de Itá compensando pelo sistema\\nLocutor 1: Exato\\nLocutor 2: Tá ok, obrigado\\nLocutor 1: Valeu, cara. Tchau.\\n',\n",
       " 'Fonte: 20190612_015916_SIPTrunk-2_GERAL_129_33334811_32217299.mp3\\nLocutor 1: Tibes COS Engie.\\nLocutor 2: O Marcão é ONS regional sul Arilton.\\nLocutor 1: Sim Arilton.\\nLocutor 2: O a Copel fez manobra lá para cima e não me avisou nada avisou agora cara.\\nLocutor 1: A coisa boa.\\nLocutor 2: Na verdade ela roda o FASE de lá que é o negócio deles de hidrologia né\\nLocutor 1: Arram.\\nLocutor 2: E aí abriu e não me fala nada que me vão fazer o que não vão o fazer e abriu novecentos metros lá em Segredo Cara.\\nLocutor 1: Nossa.\\nLocutor 2: É então está subindo ai pelos meus cálculos em Santiago dois e meio por hora. É a defluência lá agora de Segredo está dois e setecentos. \\nLocutor 1: Tá.\\nLocutor 2: Então deve estar subindo aí aí já tá com zero quatro em Santiago né.\\nLocutor 1: É eu estou com zero quatro exatamente.\\nLocutor 2: Então a diferença ai de Santiago pa está uma defluência enorme uma diferença de quase mil e trezentos metros cúbicos cara.\\nLocutor 1: É.\\nLocutor 2: É até quanto podemos chegar nisso aí até zero quatro não passa.\\nLocutor 1: É eu e a recomendação que eu tenho aqui é operar alí no quinhentos e quatro zero zero.\\nLocutor 2: Até no zero. Zero zero vamos fazer em duas então qual o máximo que tu pode abrir aí.\\nLocutor 1: Cara você só tem aberta até mil nessa defluência eu acho que é se eu não me engano é até mil Arilton.\\nLocutor 2: É mil.\\nLocutor 2: Deixa eu ver aqui o vertido agora tá em mil e quatrocentos aí né.\\nLocutor 1: Isso.\\nLocutor 2: Deixa eu ver se eu botar aqui mil e quatrocentos para dois e quatrocentos.\\nLocutor 1: Isso mil trezentos e noventa e sete.\\nLocutor 2: Dois e quatrocentos ai vai subir um pouquinho vamos fazer em duas etapas pode ser.\\nLocutor 1: Pode ser sim.\\nLocutor 2: Quanto demora para chegar essa água e Segredo até Santiago uma hora uma hora e meia.\\nLocutor 1: É uma hora e meia mais ou menos entre uma hora uma hora e meia.\\nLocutor 2: Tá então vamos fazer aí agora então o que uns oitocentos.\\nLocutor 1: Nos oitocentos então vamo abrir oitocentos metros cúbicos em Salto Santiago vamos repassar para Osório.\\nLocutor 2: Isso. E vamos repassar para Osório.\\nLocutor 1: Vamos fazer uma abertura em Osório também então.\\nLocutor 2: Tá bom.\\nLocutor 1: Combinado Arilton eu vou solicitar lá e já te passo a manobra aí.\\nLocutor 2: É pra já então obrigado.\\nLocutor 1: Valeu cara até mais tchau.\\nLocutor 2: Tchau abraço.',\n",
       " 'Fonte: 20190612_021905_SIPTrunk-7_GERAL_74_32217300_33334811.mp3\\n\\nLocutor 2: ONS, regional sul, Arilton\\nLocutor 1: Oi Arilton, Tibes COS ENGIE\\nLocutor 2: Fala, Marcão\\nLocutor 1: Em primeiro lugar, deixa eu te passar as manobras de alteração de vertido lá em Santiago e Osório\\nLocutor 2: tá\\nLocutor 1: Salto Santiago, duas e oito, que foi a manobra.\\nLocutor 2: Ok\\nLocutor 1: O nível 504,04\\nLocutor 2: tá\\nLocutor 1: Vazão vertida, 2200 metros cúbicos por segundo\\nLocutor 2: Dois e duzentos, ok\\nLocutor 1: Salto Osório duas e dez a manobra, 39676 o nível, e a vazão vertida dois trezentos e dois\\nLocutor 2: trezentos e dois. Beleza então\\nLocutor 1: Isso. Adicionalmente, Arilton, eu preciso elevar a geração lá em Pampa Sul pra 150 MW\\nLocutor 2: Cento e cinquenta. Tá com quanto agora? Tá com 80?\\nLocutor 1: Isso. Cinquenta mega. Eu to com 100.\\nLocutor 2: 150 mega. É que o pessoal tá fazendo os testes ainda né cara?\\nLocutor 1: Isso, são os testes lá na geradora, cara\\nLocutor 2: Beleza então, sem problema\\nLocutor 1: Tá ok, vou fazer a elevação então. Brigadão, cara.\\nLocutor 2: Tá bom. Tá joia, cara.\\nLocutoe 1: Valeu, tchau\\n',\n",
       " 'Fonte: 20190612_061806_SIPTrunk-2_GERAL_22_33334811_32217299.mp3\\nLocutor 2: Thibes COS Engie\\nLocutor 1: Thibes aqui é Guilherme do ONS centro regional sul\\nLocutor 2: Sim Guilherme\\nLocutor 1: Thibes por favor eleva dois kV na barra de Salto Osório e eleva quatrocentos volts na tensão de máquina de Salto Santiago\\nLocutor 2: Elevar quatrocentos volts na tensão de Salto Santiago e elevar dois kV na barra de Salto Osório\\nLocutor 1: Correto\\nLocutor 2: Combinado valeu tchau\\nLocutor 1: Valeu até mais tchau',\n",
       " 'Fonte: 20190612_063144_SIPTrunk-4_GERAL_22_33334811_32217299.mp3\\nLocutor 1:Thibes COS Engie\\nLocutor 2:O Thibes aqui é Guilherme do ONS centro regional sul\\nLocutor 1:Fala Guilherme.\\nLocutor 2:Thibes por favor na UTLC vamos elevar trezentos volts na tensão de máquina.\\nLocutor 1:Elevar trezentos volts na tensão da UTLC.\\nLocutor 2:Valeu até mais tchau.\\nLocutor 1:Combinado cara, valeu Tchau.',\n",
       " 'Fonte: 20190612_065126_SIPTrunk-6_GERAL_15_33334811_32217299.mp3\\nLocutor 1:COS Engie Mauro.\\nLocutor 2:O Mauro aqui é Guilherme do ONS centro regional sul.\\nLocutor 1:Sim Guilherme.\\nLocutor 2:Por favor em Salto Osório eleva três kV na tensão do barramento.\\nLocutor 1:Elevar três kV na barra em salto Osório né.\\nLocutor 2:Isso valeu até mais tchau.\\nLocutor 1:Falou Guilherme até mais tchau.',\n",
       " 'Fonte: 20190612_072252_SIPTrunk-7_GERAL_57_32217227_33334811.mp3\\nLocutor 2: ONS regional sul Torres.\\nLocutor 1: Oi Torres é Mauro COS Engie vou te passar horário de reversão de unidades para gerador.\\nLocutor 2: Oi Mauro. Vamos lá pode falar.\\nLocutor 1: Em Itá unidade um sete cinco.\\nLocutor 2: Sete e cinco unidade um de Itá para gerador ok.\\nLocutor 1: Unidade três de Itá sete e sete.\\nLocutor 2: Sete e sete a três de Itá como gerador ok.\\nLocutor 1: Em salto Osório unidades um e três as sete e onze.\\nLocutor 2: Sete e onze a um de Osório gerador e a Osório três sete e onze também gerador ok\\nLocutor 1: Isso unidade quatro de Osório as sete e dezesseis.\\nLocutor 2: sete e dezesseis a quatro de Osório como gerador.\\nLocutor 1: E em salto Santiago a unidade três as sete e quinze.\\nLocutor 2: Sete quinze a três de Salto Santiago como gerador.\\nLocutor 1: Isso aí aproveitando te informar que não ocorreu chuva tá nas usinas da Engie.\\nLocutor 2: Tá usinas da Engie então sem chuvas.\\nLocutor 1: Isso.\\nLocutor 2: Ok obrigado.\\nLocutor 1: Falou Torres até mais.\\nLocutor 2: Até mais.\\n',\n",
       " 'Fonte: 20190612_074609_SIPTrunk-6_GERAL_28_33334811_32217299.mp3\\nLocutor 1: COS Engie Schimanski.\\nLocutor 2: Schimanski Ederson do ONS regional sul.\\nLocutor 1: Pois não Ederson.\\nLocutor 2: Schimanski reduz para nós uns trezentos volts em Itá por favor.\\nLocutor 1: Itá reduzir trezentos volts.\\nLocutor 2: Isto.\\nLocutor 1: Eu não sei se nessa carga eu vou consegui reduzir mais do que cem tá.\\nLocutor 2: Tá ve o que tu conseguir reduzir la em Itá pode deixar no mínimo.\\nLocutor 1: Certo Machadinho te ajuda alguma coisa tem trezentos volts.\\nLocutor 2: Ajuda se tu puder pode reduzir Machadinho também.\\nLocutor 1: Machadinho no mínimo também ok.\\nLocutor 2: Isso obrigado até mais.\\nLocutor 1: Beleza nada Tchau.',\n",
       " 'Fonte: 20190612_080519_SIPTrunk-7_GERAL_14_33334811_32217299.mp3\\nLocutor 1: COS Engie Mauro.\\nLocutor 2: Mauro Ederson da ONS regional sul.\\nLocutor 1: Oi pois não Ederson.\\nLocutor 2: Mauro eleva dois kV na barra de Passo Fundo por favor.\\nLocutor 1: Elevar dois kV em Passo Fundo né.\\nLocutor 2: Isso. Obrigado até mais .\\nLocutor 1: Então tá bem até.',\n",
       " 'Fonte: 20190612_080539_SIPTrunk-7_GERAL_12_32217227_32217920.mp3\\nLocutor 1: COG Karla.\\nLocutor 2: Oi Karla Mauro COS.\\nLocutor 1: Oi Mauro.\\nLocutor 2: Faz favor eleva pra gente dois kV na barra em Passo Fundo.\\nLocutor 1: Elevar dois kV na barra em Passo Fundo.\\nLocutor 2: Isso obrigado.\\nLocutor 1: Obrigada\\nLocutor 2: Até.',\n",
       " 'Fonte: 20190612_082230_SIPTrunk-6_GERAL_15_32217227_33334811.mp3\\nLocutor 1: ONS regional sul Meison\\nLocutor 2: Meison Mauro COS Engie\\nLocutor 1: Sim Mauro\\nLocutor 2: Meison a unidade dois de Salto Santiago foi revertida para gerador as oito e dezenove\\nLocutor 1: Oito e dezenove unidade dois de Salto Santiago como gerador ta ok obrigado até mais\\nLocutor 2: Feito']"
      ]
     },
     "execution_count": 430,
     "metadata": {},
     "output_type": "execute_result"
    }
   ],
   "source": [
    "index2=[i!=[] for i in list(map(get_usinas,supertext_filter1))]\n",
    "supertext_filter2=list([supertext_filter1[i] for i in[i for i, x in enumerate(index2) if x]])\n",
    "supertext_filter2"
   ]
  },
  {
   "cell_type": "code",
   "execution_count": 486,
   "metadata": {},
   "outputs": [],
   "source": [
    "c1=list(map(get_data,supertext_filter2))\n",
    "c2=list(map(get_ONS,supertext_filter2))\n",
    "c3=list(map(get_tags,supertext_filter2))\n",
    "c4=list(map(get_usinas,supertext_filter2))\n",
    "c5=list(map(get_complexidade,supertext_filter2))"
   ]
  },
  {
   "cell_type": "code",
   "execution_count": 433,
   "metadata": {},
   "outputs": [],
   "source": [
    "import pandas as pd"
   ]
  },
  {
   "cell_type": "code",
   "execution_count": 476,
   "metadata": {},
   "outputs": [],
   "source": [
    "c2[0]=\"Célio\"\n",
    "np1=numpy.vstack([c1,c2,c3,c4])\n",
    "data={'Data':c1,'Requerente':c2,'Tags':c3,'Usina':c4,'Complexidade':c5}\n",
    "dfpd=pd.DataFrame(data)\n",
    "dfpd\n",
    "\n",
    "\n",
    "\n",
    "dfpd.to_json('dados.json',force_ascii=False)\n",
    "#for i in dfpd.index():\n",
    "#    dfpd.loc[i].to_json(\"row{}.json\".format[i])"
   ]
  },
  {
   "cell_type": "code",
   "execution_count": 482,
   "metadata": {},
   "outputs": [
    {
     "data": {
      "text/plain": [
       "'Fonte: 20190611_001659_SIPTrunk-2_GERAL_52_32217300_33338111.wav\\nLocutor 2: ONS Nordeste Pinheiro boa noite.\\nLocutor 1: Boa noite Pinheiro Prado COS Engie.\\nLocutor 2: Diga Prado.\\nLocutor 1: Agora às dezesseis minutos nós tivemos uma ocorrência lá em Umburanas parque vinte cinco ele desligou por sobre corrente.\\nNa verdade foi aos doze para ser mais exata a hora da ocorrência.\\nPinheiro.\\nAlô.'"
      ]
     },
     "execution_count": 482,
     "metadata": {},
     "output_type": "execute_result"
    }
   ],
   "source": [
    "supertext_filter2[1]"
   ]
  },
  {
   "cell_type": "code",
   "execution_count": 485,
   "metadata": {},
   "outputs": [
    {
     "data": {
      "text/plain": [
       "[['Ocorrência'],\n",
       " ['Desligamento', 'Ocorrência'],\n",
       " ['Informação de nível'],\n",
       " ['Redução para tensão mínima'],\n",
       " ['Redução para tensão mínima'],\n",
       " ['Compensação de gerador', 'Vertimento', 'Manutenção de unidade'],\n",
       " ['Compensação de gerador', 'Informação de nível', 'Vertimento'],\n",
       " ['Aumento para tensão máxima'],\n",
       " ['Compensação de gerador'],\n",
       " ['Aumento de tensão'],\n",
       " ['Aumento para tensão máxima', 'Compensação de gerador'],\n",
       " ['Desligamento', 'Ocorrência'],\n",
       " ['Compensação de gerador'],\n",
       " ['Aumento para tensão máxima', 'Vertimento'],\n",
       " ['Informação de nível', 'Vertimento'],\n",
       " ['Redução de tensão', 'Vertimento'],\n",
       " ['Informação de nível', 'Vertimento'],\n",
       " ['Desligamento', 'Ocorrência'],\n",
       " ['Informação pluviométrica'],\n",
       " ['Aumento de tensão'],\n",
       " ['Aumento de tensão'],\n",
       " ['Redução de tensão'],\n",
       " ['Redução para tensão mínima'],\n",
       " ['Compensação de gerador'],\n",
       " ['Redução de tensão'],\n",
       " ['Redução de tensão'],\n",
       " ['Redução para tensão mínima'],\n",
       " ['Compensação de gerador'],\n",
       " ['Informação hidrológica', 'Vertimento', 'Ocorrência'],\n",
       " ['Aumento de tensão', 'Informação de nível', 'Vertimento', 'Ocorrência'],\n",
       " ['Aumento de tensão'],\n",
       " ['Aumento de tensão'],\n",
       " ['Aumento de tensão'],\n",
       " ['Compensação de gerador', 'Informação pluviométrica'],\n",
       " ['Redução para tensão mínima'],\n",
       " ['Aumento de tensão'],\n",
       " ['Aumento de tensão'],\n",
       " ['Compensação de gerador', 'Vertimento']]"
      ]
     },
     "execution_count": 485,
     "metadata": {},
     "output_type": "execute_result"
    }
   ],
   "source": [
    "c3"
   ]
  },
  {
   "cell_type": "code",
   "execution_count": null,
   "metadata": {},
   "outputs": [],
   "source": []
  }
 ],
 "metadata": {
  "kernelspec": {
   "display_name": "Python 3",
   "language": "python",
   "name": "python3"
  },
  "language_info": {
   "codemirror_mode": {
    "name": "ipython",
    "version": 3
   },
   "file_extension": ".py",
   "mimetype": "text/x-python",
   "name": "python",
   "nbconvert_exporter": "python",
   "pygments_lexer": "ipython3",
   "version": "3.7.1"
  }
 },
 "nbformat": 4,
 "nbformat_minor": 2
}
